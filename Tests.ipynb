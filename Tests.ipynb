{
 "cells": [
  {
   "cell_type": "code",
   "execution_count": 2,
   "metadata": {
    "collapsed": true
   },
   "outputs": [],
   "source": [
    "import rebound\n",
    "import reboundx\n",
    "import numpy as np\n",
    "import matplotlib\n",
    "%matplotlib inline\n",
    "from matplotlib import pyplot as plt"
   ]
  },
  {
   "cell_type": "markdown",
   "metadata": {},
   "source": [
    "Test difference in parameters every 1000 years until maximum year 9999"
   ]
  },
  {
   "cell_type": "code",
   "execution_count": 2,
   "metadata": {},
   "outputs": [
    {
     "name": "stdout",
     "output_type": "stream",
     "text": [
      "[2000 3000 4000 5000 6000 7000 8000 9000]\n"
     ]
    }
   ],
   "source": [
    "years = np.arange(2000,10000,1000)\n",
    "print years"
   ]
  },
  {
   "cell_type": "code",
   "execution_count": 3,
   "metadata": {},
   "outputs": [
    {
     "name": "stdout",
     "output_type": "stream",
     "text": [
      "Searching NASA Horizons for 'Sun'... Found: Sun (10).\n",
      "Searching NASA Horizons for 'Mercury'... Found: Mercury Barycenter (199).\n",
      "Searching NASA Horizons for 'Venus'... Found: Venus Barycenter (299).\n",
      "Searching NASA Horizons for 'Earth'... Found: Earth-Moon Barycenter (3).\n",
      "Searching NASA Horizons for 'Mars'... Found: Mars Barycenter (4).\n",
      "Searching NASA Horizons for 'Jupiter'... Found: Jupiter Barycenter (5).\n",
      "Searching NASA Horizons for 'Saturn'... Found: Saturn Barycenter (6).\n",
      "Searching NASA Horizons for 'Uranus'... Found: Uranus Barycenter (7).\n",
      "Searching NASA Horizons for 'Neptune'... Found: Neptune Barycenter (8).\n",
      "Searching NASA Horizons for 'Pluto'... Found: Pluto Barycenter (9).\n"
     ]
    }
   ],
   "source": [
    "years = np.arange(2000,10000,1000)\n",
    "\n",
    "sim = rebound.Simulation()\n",
    "date = \"2000-01-01 00:00\"\n",
    "for p in [\"Sun\",\"Mercury\",\"Venus\",\"Earth\",\"Mars\",\"Jupiter\",\"Saturn\",\"Uranus\",\"Neptune\",\"Pluto\"]:\n",
    "    sim.add(p,date=date)\n",
    "\n",
    "sim.convert_particle_units('AU', 'day', 'kg')\n",
    "sim.G = 1.4880826e-34\n",
    "sim.integrator = \"whfast\"\n",
    "sim.dt = 8.\n",
    "\n",
    "sim.move_to_com()\n",
    "\n",
    "ecc = {}\n",
    "a = {}\n",
    "inc = {}\n",
    "\n",
    "for p in [\"Mercury\",\"Venus\",\"Earth\",\"Mars\",\"Jupiter\",\"Saturn\",\"Uranus\",\"Neptune\",\"Pluto\"]:\n",
    "    ecc[p] = np.empty(0)\n",
    "    a[p] = np.empty(0)\n",
    "    inc[p] = np.empty(0)"
   ]
  },
  {
   "cell_type": "code",
   "execution_count": 4,
   "metadata": {
    "collapsed": true
   },
   "outputs": [],
   "source": [
    "for t in years:\n",
    "    sim.integrate((t-2000)*365.)\n",
    "    o = sim.calculate_orbits()\n",
    "    i = 0\n",
    "    for p in [\"Mercury\",\"Venus\",\"Earth\",\"Mars\",\"Jupiter\",\"Saturn\",\"Uranus\",\"Neptune\",\"Pluto\"]:\n",
    "        ecc[p] = np.append(ecc[p],o[i].e)\n",
    "        a[p] = np.append(a[p],o[i].a)\n",
    "        inc[p] = np.append(inc[p],o[i].inc)\n",
    "        i = i+1"
   ]
  },
  {
   "cell_type": "code",
   "execution_count": 5,
   "metadata": {},
   "outputs": [
    {
     "name": "stdout",
     "output_type": "stream",
     "text": [
      "Searching NASA Horizons for 'Sun'... Found: Sun (10).\n",
      "Searching NASA Horizons for 'Mercury'... Found: Mercury Barycenter (199).\n",
      "Searching NASA Horizons for 'Venus'... Found: Venus Barycenter (299).\n",
      "Searching NASA Horizons for 'Earth'... Found: Earth-Moon Barycenter (3).\n",
      "Searching NASA Horizons for 'Mars'... Found: Mars Barycenter (4).\n",
      "Searching NASA Horizons for 'Jupiter'... Found: Jupiter Barycenter (5).\n",
      "Searching NASA Horizons for 'Saturn'... Found: Saturn Barycenter (6).\n",
      "Searching NASA Horizons for 'Uranus'... Found: Uranus Barycenter (7).\n",
      "Searching NASA Horizons for 'Neptune'... Found: Neptune Barycenter (8).\n",
      "Searching NASA Horizons for 'Sun'... Found: Sun (10).\n",
      "Searching NASA Horizons for 'Mercury'... Found: Mercury Barycenter (199).\n",
      "Searching NASA Horizons for 'Venus'... Found: Venus Barycenter (299).\n",
      "Searching NASA Horizons for 'Earth'... Found: Earth-Moon Barycenter (3).\n",
      "Searching NASA Horizons for 'Mars'... Found: Mars Barycenter (4).\n",
      "Searching NASA Horizons for 'Jupiter'... Found: Jupiter Barycenter (5).\n",
      "Searching NASA Horizons for 'Saturn'... Found: Saturn Barycenter (6).\n",
      "Searching NASA Horizons for 'Uranus'... Found: Uranus Barycenter (7).\n",
      "Searching NASA Horizons for 'Neptune'... Found: Neptune Barycenter (8).\n",
      "Searching NASA Horizons for 'Sun'... Found: Sun (10).\n",
      "Searching NASA Horizons for 'Mercury'... Found: Mercury Barycenter (199).\n",
      "Searching NASA Horizons for 'Venus'... Found: Venus Barycenter (299).\n",
      "Searching NASA Horizons for 'Earth'... Found: Earth-Moon Barycenter (3).\n",
      "Searching NASA Horizons for 'Mars'... Found: Mars Barycenter (4).\n",
      "Searching NASA Horizons for 'Jupiter'... Found: Jupiter Barycenter (5).\n",
      "Searching NASA Horizons for 'Saturn'... Found: Saturn Barycenter (6).\n",
      "Searching NASA Horizons for 'Uranus'... Found: Uranus Barycenter (7).\n",
      "Searching NASA Horizons for 'Neptune'... Found: Neptune Barycenter (8).\n",
      "Searching NASA Horizons for 'Sun'... Found: Sun (10).\n",
      "Searching NASA Horizons for 'Mercury'... Found: Mercury Barycenter (199).\n",
      "Searching NASA Horizons for 'Venus'... Found: Venus Barycenter (299).\n",
      "Searching NASA Horizons for 'Earth'... Found: Earth-Moon Barycenter (3).\n",
      "Searching NASA Horizons for 'Mars'... Found: Mars Barycenter (4).\n",
      "Searching NASA Horizons for 'Jupiter'... Found: Jupiter Barycenter (5).\n",
      "Searching NASA Horizons for 'Saturn'... Found: Saturn Barycenter (6).\n",
      "Searching NASA Horizons for 'Uranus'... Found: Uranus Barycenter (7).\n",
      "Searching NASA Horizons for 'Neptune'... Found: Neptune Barycenter (8).\n",
      "Searching NASA Horizons for 'Sun'... Found: Sun (10).\n",
      "Searching NASA Horizons for 'Mercury'... Found: Mercury Barycenter (199).\n",
      "Searching NASA Horizons for 'Venus'... Found: Venus Barycenter (299).\n",
      "Searching NASA Horizons for 'Earth'... Found: Earth-Moon Barycenter (3).\n",
      "Searching NASA Horizons for 'Mars'... Found: Mars Barycenter (4).\n",
      "Searching NASA Horizons for 'Jupiter'... Found: Jupiter Barycenter (5).\n",
      "Searching NASA Horizons for 'Saturn'... Found: Saturn Barycenter (6).\n",
      "Searching NASA Horizons for 'Uranus'... Found: Uranus Barycenter (7).\n",
      "Searching NASA Horizons for 'Neptune'... Found: Neptune Barycenter (8).\n",
      "Searching NASA Horizons for 'Sun'... Found: Sun (10).\n",
      "Searching NASA Horizons for 'Mercury'... Found: Mercury Barycenter (199).\n",
      "Searching NASA Horizons for 'Venus'... Found: Venus Barycenter (299).\n",
      "Searching NASA Horizons for 'Earth'... Found: Earth-Moon Barycenter (3).\n",
      "Searching NASA Horizons for 'Mars'... Found: Mars Barycenter (4).\n",
      "Searching NASA Horizons for 'Jupiter'... Found: Jupiter Barycenter (5).\n",
      "Searching NASA Horizons for 'Saturn'... Found: Saturn Barycenter (6).\n",
      "Searching NASA Horizons for 'Uranus'... Found: Uranus Barycenter (7).\n",
      "Searching NASA Horizons for 'Neptune'... Found: Neptune Barycenter (8).\n",
      "Searching NASA Horizons for 'Sun'... Found: Sun (10).\n",
      "Searching NASA Horizons for 'Mercury'... Found: Mercury Barycenter (199).\n",
      "Searching NASA Horizons for 'Venus'... Found: Venus Barycenter (299).\n",
      "Searching NASA Horizons for 'Earth'... Found: Earth-Moon Barycenter (3).\n",
      "Searching NASA Horizons for 'Mars'... Found: Mars Barycenter (4).\n",
      "Searching NASA Horizons for 'Jupiter'... Found: Jupiter Barycenter (5).\n",
      "Searching NASA Horizons for 'Saturn'... Found: Saturn Barycenter (6).\n",
      "Searching NASA Horizons for 'Uranus'... Found: Uranus Barycenter (7).\n",
      "Searching NASA Horizons for 'Neptune'... Found: Neptune Barycenter (8).\n",
      "Searching NASA Horizons for 'Sun'... Found: Sun (10).\n",
      "Searching NASA Horizons for 'Mercury'... Found: Mercury Barycenter (199).\n",
      "Searching NASA Horizons for 'Venus'... Found: Venus Barycenter (299).\n",
      "Searching NASA Horizons for 'Earth'... Found: Earth-Moon Barycenter (3).\n",
      "Searching NASA Horizons for 'Mars'... Found: Mars Barycenter (4).\n",
      "Searching NASA Horizons for 'Jupiter'... Found: Jupiter Barycenter (5).\n",
      "Searching NASA Horizons for 'Saturn'... Found: Saturn Barycenter (6).\n",
      "Searching NASA Horizons for 'Uranus'... Found: Uranus Barycenter (7).\n",
      "Searching NASA Horizons for 'Neptune'... Found: Neptune Barycenter (8).\n"
     ]
    }
   ],
   "source": [
    "horizon_ecc = {}\n",
    "horizon_a = {}\n",
    "horizon_inc = {}\n",
    "\n",
    "for p in [\"Mercury\",\"Venus\",\"Earth\",\"Mars\",\"Jupiter\",\"Saturn\",\"Uranus\",\"Neptune\",\"Pluto\"]:\n",
    "    horizon_ecc[p] = np.empty(0)\n",
    "    horizon_a[p] = np.empty(0)\n",
    "    horizon_inc[p] = np.empty(0)\n",
    "    \n",
    "date = \"2000-01-01 00:00\"\n",
    "for y in years:\n",
    "    date = str(int(y))+\"-01-01 00:00\"\n",
    "    sim = rebound.Simulation()\n",
    "    for p in [\"Sun\",\"Mercury\",\"Venus\",\"Earth\",\"Mars\",\"Jupiter\",\"Saturn\",\"Uranus\",\"Neptune\"]:\n",
    "        sim.add(p,date=date)\n",
    "    sim.convert_particle_units('AU', 'day', 'kg')\n",
    "\n",
    "    o = sim.calculate_orbits()\n",
    "    i = 0\n",
    "    for p in [\"Mercury\",\"Venus\",\"Earth\",\"Mars\",\"Jupiter\",\"Saturn\",\"Uranus\",\"Neptune\"]:\n",
    "        horizon_ecc[p] = np.append(horizon_ecc[p],o[i].e)\n",
    "        horizon_a[p] = np.append(horizon_a[p],o[i].a)\n",
    "        horizon_inc[p] = np.append(horizon_inc[p],o[i].inc)\n",
    "        i = i+1"
   ]
  },
  {
   "cell_type": "markdown",
   "metadata": {},
   "source": [
    "Difference in orbital parameters for each planet, every 1000 years, for 8000 years"
   ]
  },
  {
   "cell_type": "code",
   "execution_count": 6,
   "metadata": {},
   "outputs": [
    {
     "name": "stdout",
     "output_type": "stream",
     "text": [
      "Mercury\n",
      "eccentricity difference\n",
      "[ -1.89588473e-05  -1.83700876e-05  -2.89522339e-05  -1.61137218e-06\n",
      "  -2.98816624e-05  -5.19966746e-06  -3.06603353e-05  -7.85664468e-06]\n",
      "inclination difference\n",
      "[  0.00000000e+00   8.94026909e-07   2.45665266e-06   2.98823417e-06\n",
      "   5.63755812e-06   3.17841651e-06   5.20089436e-06   1.18300757e-06]\n",
      "semi-major axis difference\n",
      "[  6.12975010e-06   6.96683153e-06   6.79557170e-06   5.90398165e-06\n",
      "   7.67555570e-06   5.54641551e-06   7.72224488e-06   5.51538585e-06]\n",
      " \n",
      "Venus\n",
      "eccentricity difference\n",
      "[  1.56281673e-05   1.25335017e-05  -3.77767095e-06   5.50061212e-05\n",
      "   4.85545645e-05   3.29676177e-05  -5.48063363e-05  -4.19101992e-06]\n",
      "inclination difference\n",
      "[  0.00000000e+00   3.98094219e-07   1.41897421e-06  -1.79284480e-07\n",
      "   3.71198789e-06   2.29939663e-06   2.59317948e-06   6.81349932e-06]\n",
      "semi-major axis difference\n",
      "[  1.74955075e-05   1.78820890e-05   2.48159475e-05   2.09956484e-05\n",
      "   1.78727907e-05   2.14876912e-05   1.80555286e-05   1.60282866e-05]\n",
      " \n",
      "Earth\n",
      "eccentricity difference\n",
      "[  2.43427391e-05   4.09001317e-05   1.13045853e-05   2.89969345e-05\n",
      "  -1.60936512e-05  -8.80197215e-06   4.62449910e-05   6.48099064e-05]\n",
      "inclination difference\n",
      "[  0.00000000e+00  -5.23773688e-07  -3.30477958e-06  -6.15658108e-06\n",
      "  -3.88635786e-06  -9.45090285e-06  -7.82495722e-06  -9.70226647e-06]\n",
      "semi-major axis difference\n",
      "[  2.47898286e-05   2.32972528e-05   5.20303016e-06   1.84368340e-05\n",
      "   1.56663945e-05   3.15410442e-06   1.99338686e-05   2.56314238e-05]\n",
      " \n",
      "Mars\n",
      "eccentricity difference\n",
      "[  2.43048279e-05  -1.19247515e-04  -2.51396544e-05  -7.62030943e-05\n",
      "   3.08495806e-05  -5.63958324e-05   3.61845262e-05  -2.24350573e-05]\n",
      "inclination difference\n",
      "[  0.00000000e+00  -5.32550877e-07   4.15581539e-06   6.77554705e-07\n",
      "   7.59447837e-06   2.15210467e-06   8.94672262e-06   1.06968571e-05]\n",
      "semi-major axis difference\n",
      "[  4.35057888e-05   1.81731322e-04   1.46325276e-04   3.23064961e-05\n",
      "   1.58806051e-04   1.24959543e-04   5.22404233e-06   1.24931769e-06]\n",
      " \n",
      "Jupiter\n",
      "eccentricity difference\n",
      "[  2.35992079e-05   3.97918766e-05  -2.06572065e-05   9.58378494e-05\n",
      "  -3.87170616e-05  -9.95924829e-05   6.52516703e-04  -1.49273104e-04]\n",
      "inclination difference\n",
      "[  0.00000000e+00  -3.66990511e-07   3.95460142e-07  -6.05929161e-06\n",
      "  -6.71331252e-07  -3.11268992e-07  -5.58019018e-06  -4.36341202e-08]\n",
      "semi-major axis difference\n",
      "[  1.36790857e-04  -3.96631247e-05   4.39272525e-04  -8.23415956e-04\n",
      "  -3.89803560e-04   8.13090614e-04  -1.19140646e-03  -4.43732701e-04]\n",
      " \n",
      "Saturn\n",
      "eccentricity difference\n",
      "[  1.75769903e-05   4.03339064e-05  -6.37423224e-06  -7.51244490e-04\n",
      "  -1.96463685e-04   3.71319309e-04   2.20687057e-06  -2.85143491e-04]\n",
      "inclination difference\n",
      "[  0.00000000e+00   1.18700969e-08   8.20702148e-07   9.74431519e-06\n",
      "  -8.31385649e-07   4.04146832e-06   4.87127239e-06  -2.34035805e-06]\n",
      "semi-major axis difference\n",
      "[ 0.00024639  0.00111396 -0.00131542  0.00395981  0.00229619 -0.00276108\n",
      "  0.0078774   0.0022152 ]\n",
      " \n",
      "Uranus\n",
      "eccentricity difference\n",
      "[ -1.85721236e-05  -1.36799568e-05   2.79713057e-05   2.64284471e-05\n",
      "  -1.52306042e-05  -9.92952813e-05  -4.80432977e-05  -6.06425579e-05]\n",
      "inclination difference\n",
      "[  0.00000000e+00   5.93784160e-08   7.70539747e-07   2.90417303e-07\n",
      "  -4.83655201e-08  -2.09950273e-07   3.77650183e-06   1.14834475e-06]\n",
      "semi-major axis difference\n",
      "[ 0.00042661  0.00034142  0.00136783  0.00141665  0.00060118 -0.00050168\n",
      "  0.00049435  0.00011356]\n",
      " \n",
      "Neptune\n",
      "eccentricity difference\n",
      "[ -4.37366092e-06  -5.45921800e-06  -1.76337866e-05   4.53865526e-06\n",
      "  -9.63774711e-06  -1.49949748e-05   3.06136898e-05   7.36382204e-07]\n",
      "inclination difference\n",
      "[  0.00000000e+00  -6.68326468e-08  -1.21593869e-07  -6.56348085e-08\n",
      "  -7.00106181e-09  -5.09486842e-08  -1.77273241e-06  -1.64492702e-07]\n",
      "semi-major axis difference\n",
      "[ 0.00071874  0.00072831  0.00046764  0.00120932  0.00058923  0.00044733\n",
      "  0.00087095  0.00110527]\n",
      " \n"
     ]
    }
   ],
   "source": [
    "for p in [\"Mercury\",\"Venus\",\"Earth\",\"Mars\",\"Jupiter\",\"Saturn\",\"Uranus\",\"Neptune\"]:\n",
    "    print p\n",
    "    print \"eccentricity difference\"\n",
    "    print ecc[p]-horizon_ecc[p]\n",
    "    print \"inclination difference\"\n",
    "    print inc[p]-horizon_inc[p]\n",
    "    print \"semi-major axis difference\"\n",
    "    print a[p]-horizon_a[p]\n",
    "    print \" \"\n"
   ]
  },
  {
   "cell_type": "markdown",
   "metadata": {},
   "source": [
    "Testing GR: Mercury's precession. The literature value is 42.98 arcsec / century."
   ]
  },
  {
   "cell_type": "code",
   "execution_count": 7,
   "metadata": {},
   "outputs": [
    {
     "name": "stdout",
     "output_type": "stream",
     "text": [
      "Searching NASA Horizons for 'Sun'... Found: Sun (10).\n",
      "Searching NASA Horizons for 'Mercury'... Found: Mercury Barycenter (199).\n"
     ]
    }
   ],
   "source": [
    "sim = rebound.Simulation()\n",
    "date = \"2000-01-01 00:00\"\n",
    "for p in [\"Sun\",\"Mercury\"]:\n",
    "    sim.add(p,date=date)\n",
    "    \n",
    "sim.convert_particle_units('AU', 'yr2pi', 'Msun')\n",
    "\n",
    "days2yr2pi = 1./(365.*2.0*np.pi)\n",
    "sim.dt = 8.*days2yr2pi\n",
    "sim.integrator = \"whfast\"\n",
    "sim.move_to_com()\n",
    "\n",
    "from reboundx import constants\n",
    "\n",
    "rebx = reboundx.Extras(sim)\n",
    "gr = rebx.add(\"gr_potential\")\n",
    "gr.params[\"c\"] = constants.C"
   ]
  },
  {
   "cell_type": "code",
   "execution_count": 8,
   "metadata": {},
   "outputs": [
    {
     "name": "stdout",
     "output_type": "stream",
     "text": [
      "Rate of change of pomega = 42.6524 [arcsec / Julian century]\n",
      "Relative error on the relativistic Hamiltonian = 3.96249325152e-14\n"
     ]
    }
   ],
   "source": [
    "deltat = 100.\n",
    "E0 = rebx.gr_potential_hamiltonian(sim, gr)\n",
    "pomega0 = sim.particles[1].pomega\n",
    "sim.integrate(sim.t + deltat)\n",
    "delta_pomega = sim.particles[1].pomega -pomega0\n",
    "\n",
    "Ef = rebx.gr_potential_hamiltonian(sim, gr)\n",
    "\n",
    "juliancentury = 628.33195 # in yr/2pi\n",
    "arcsec = 4.8481368e-06 # in rad\n",
    "print(\"Rate of change of pomega = %.4f [arcsec / Julian century]\"% (delta_pomega/deltat*juliancentury/arcsec))\n",
    "print(\"Relative error on the relativistic Hamiltonian = {0}\".format(abs(Ef-E0)/abs(E0)))"
   ]
  },
  {
   "cell_type": "markdown",
   "metadata": {},
   "source": [
    "Verify how off the GR effect with other G"
   ]
  },
  {
   "cell_type": "code",
   "execution_count": 3,
   "metadata": {
    "collapsed": true
   },
   "outputs": [],
   "source": [
    "old_file = \"/data_local/arachkov/solar_system/COM/solar_system_merc_kappa_0.0_SA.bin\"\n",
    "new_file = \"/data_local/arachkov/solar_system/GRtest.bin\"\n",
    "noGR_file = \"/data_local/arachkov/solar_system/NoGRtest.bin\""
   ]
  },
  {
   "cell_type": "code",
   "execution_count": 5,
   "metadata": {},
   "outputs": [],
   "source": [
    "from reboundx import constants\n",
    "\n",
    "sa = rebound.SimulationArchive(noGR_file)\n",
    "N = len(sa)\n",
    "energy_noGR = np.empty(0)\n",
    "time = np.empty(0)\n",
    "for n in range(N):\n",
    "    sim = sa[n]\n",
    "    time = np.append(time,sim.t/(2.*np.pi))\n",
    "    E = sim.calculate_energy()\n",
    "    energy_noGR = np.append(energy_noGR,E)"
   ]
  },
  {
   "cell_type": "code",
   "execution_count": 27,
   "metadata": {},
   "outputs": [],
   "source": [
    "sa = rebound.SimulationArchive(old_file)\n",
    "energy_old = np.empty(0)\n",
    "for n in range(N):\n",
    "    sim = sa[n]\n",
    "\n",
    "    rebx = reboundx.Extras(sim)\n",
    "    gr = rebx.add(\"gr_potential\")\n",
    "    c = 299792458.\n",
    "    au2m = 149597870700.\n",
    "    day2s = 86400.\n",
    "    gr.params[\"c\"] = c*(day2s/au2m)\n",
    "    E = rebx.gr_potential_hamiltonian(sim, gr)\n",
    "\n",
    "    energy_old = np.append(energy_old,E)"
   ]
  },
  {
   "cell_type": "code",
   "execution_count": 29,
   "metadata": {},
   "outputs": [],
   "source": [
    "sa = rebound.SimulationArchive(new_file)\n",
    "energy_new = np.empty(0)\n",
    "for n in range(N):\n",
    "    sim = sa[n]\n",
    "\n",
    "    rebx = reboundx.Extras(sim)\n",
    "    gr = rebx.add(\"gr_potential\")\n",
    "    gr.params[\"c\"] = constants.C\n",
    "    E = rebx.gr_potential_hamiltonian(sim, gr)\n",
    "\n",
    "    energy_new = np.append(energy_new,E)"
   ]
  },
  {
   "cell_type": "code",
   "execution_count": 30,
   "metadata": {},
   "outputs": [
    {
     "name": "stdout",
     "output_type": "stream",
     "text": [
      "[ 1.00000001  1.00000001  1.00000001  1.00000001  1.00000001  1.00000001\n",
      "  1.00000001  1.00000001  1.00000001  1.00000001  1.00000001  1.00000001\n",
      "  1.00000001  1.00000001  1.00000001  1.00000001  1.00000001  1.00000001\n",
      "  1.00000001  1.00000001]\n",
      "[  5.88407105e+26   5.88407104e+26   5.88407104e+26   5.88407105e+26\n",
      "   5.88407105e+26   5.88407105e+26   5.88407105e+26   5.88407105e+26\n",
      "   5.88407106e+26   5.88407106e+26   5.88407105e+26   5.88407106e+26\n",
      "   5.88407106e+26   5.88407105e+26   5.88407105e+26   5.88407105e+26\n",
      "   5.88407105e+26   5.88407105e+26   5.88407106e+26   5.88407107e+26]\n",
      "[  1.69950363e-27   1.69950364e-27   1.69950364e-27   1.69950363e-27\n",
      "   1.69950363e-27   1.69950363e-27   1.69950363e-27   1.69950363e-27\n",
      "   1.69950363e-27   1.69950363e-27   1.69950363e-27   1.69950363e-27\n",
      "   1.69950363e-27   1.69950364e-27   1.69950363e-27   1.69950363e-27\n",
      "   1.69950363e-27   1.69950363e-27   1.69950363e-27   1.69950363e-27]\n"
     ]
    }
   ],
   "source": [
    "print energy_new/energy_noGR\n",
    "print energy_old/energy_noGR\n",
    "print energy_new/energy_old"
   ]
  },
  {
   "cell_type": "code",
   "execution_count": 31,
   "metadata": {},
   "outputs": [
    {
     "name": "stdout",
     "output_type": "stream",
     "text": [
      "[ -6.60681105e+22  -6.60681104e+22  -6.60681104e+22  -6.60681105e+22\n",
      "  -6.60681105e+22  -6.60681105e+22  -6.60681105e+22  -6.60681105e+22\n",
      "  -6.60681106e+22  -6.60681106e+22  -6.60681105e+22  -6.60681106e+22\n",
      "  -6.60681105e+22  -6.60681105e+22  -6.60681105e+22  -6.60681105e+22\n",
      "  -6.60681105e+22  -6.60681105e+22  -6.60681106e+22  -6.60681107e+22]\n"
     ]
    }
   ],
   "source": [
    "print energy_old"
   ]
  },
  {
   "cell_type": "code",
   "execution_count": 32,
   "metadata": {},
   "outputs": [
    {
     "name": "stdout",
     "output_type": "stream",
     "text": [
      "[-0.00011228 -0.00011228 -0.00011228 -0.00011228 -0.00011228 -0.00011228\n",
      " -0.00011228 -0.00011228 -0.00011228 -0.00011228 -0.00011228 -0.00011228\n",
      " -0.00011228 -0.00011228 -0.00011228 -0.00011228 -0.00011228 -0.00011228\n",
      " -0.00011228 -0.00011228]\n"
     ]
    }
   ],
   "source": [
    "print energy_new"
   ]
  },
  {
   "cell_type": "code",
   "execution_count": 33,
   "metadata": {},
   "outputs": [
    {
     "name": "stdout",
     "output_type": "stream",
     "text": [
      "[-0.00011228 -0.00011228 -0.00011228 -0.00011228 -0.00011228 -0.00011228\n",
      " -0.00011228 -0.00011228 -0.00011228 -0.00011228 -0.00011228 -0.00011228\n",
      " -0.00011228 -0.00011228 -0.00011228 -0.00011228 -0.00011228 -0.00011228\n",
      " -0.00011228 -0.00011228]\n"
     ]
    }
   ],
   "source": [
    "print energy_noGR"
   ]
  },
  {
   "cell_type": "code",
   "execution_count": 63,
   "metadata": {},
   "outputs": [],
   "source": [
    "times = np.arange(0,1.e5,1000)"
   ]
  },
  {
   "cell_type": "code",
   "execution_count": 64,
   "metadata": {},
   "outputs": [
    {
     "name": "stdout",
     "output_type": "stream",
     "text": [
      "Searching NASA Horizons for 'Sun'... Found: Sun (10).\n",
      "Searching NASA Horizons for 'Mercury'... Found: Mercury Barycenter (199).\n",
      "Searching NASA Horizons for 'Venus'... Found: Venus Barycenter (299).\n",
      "Searching NASA Horizons for 'Earth'... Found: Earth-Moon Barycenter (3).\n",
      "Searching NASA Horizons for 'Mars'... Found: Mars Barycenter (4).\n",
      "Searching NASA Horizons for 'Jupiter'... Found: Jupiter Barycenter (5).\n",
      "Searching NASA Horizons for 'Saturn'... Found: Saturn Barycenter (6).\n",
      "Searching NASA Horizons for 'Uranus'... Found: Uranus Barycenter (7).\n",
      "Searching NASA Horizons for 'Neptune'... Found: Neptune Barycenter (8).\n",
      "Searching NASA Horizons for 'Pluto'... Found: Pluto Barycenter (9).\n"
     ]
    }
   ],
   "source": [
    "sim = rebound.Simulation()\n",
    "date = \"2000-01-01 00:00\"\n",
    "for p in [\"Sun\",\"Mercury\",\"Venus\",\"Earth\",\"Mars\",\"Jupiter\",\"Saturn\",\"Uranus\",\"Neptune\",\"Pluto\"]:\n",
    "    sim.add(p,date=date)\n",
    "    \n",
    "sim.convert_particle_units('AU', 'yr2pi', 'Msun')\n",
    "\n",
    "days2yr2pi = 1./(365.*2.0*np.pi)\n",
    "sim.dt = 8.*days2yr2pi\n",
    "sim.integrator = \"whfast\"\n",
    "sim.move_to_com()\n",
    "\n",
    "from reboundx import constants\n",
    "\n",
    "rebx = reboundx.Extras(sim)\n",
    "gr = rebx.add(\"gr_potential\")\n",
    "gr.params[\"c\"] = constants.C"
   ]
  },
  {
   "cell_type": "code",
   "execution_count": 65,
   "metadata": {
    "collapsed": true
   },
   "outputs": [],
   "source": [
    "energy_gr = np.empty(0)\n",
    "for t in times:\n",
    "    sim.integrate(t*2.*np.pi)\n",
    "    E = rebx.gr_potential_hamiltonian(sim, gr)\n",
    "    energy_gr = np.append(energy_gr,E)"
   ]
  },
  {
   "cell_type": "code",
   "execution_count": 66,
   "metadata": {},
   "outputs": [
    {
     "name": "stdout",
     "output_type": "stream",
     "text": [
      "Searching NASA Horizons for 'Sun'... Found: Sun (10).\n",
      "Searching NASA Horizons for 'Mercury'... Found: Mercury Barycenter (199).\n",
      "Searching NASA Horizons for 'Venus'... Found: Venus Barycenter (299).\n",
      "Searching NASA Horizons for 'Earth'... Found: Earth-Moon Barycenter (3).\n",
      "Searching NASA Horizons for 'Mars'... Found: Mars Barycenter (4).\n",
      "Searching NASA Horizons for 'Jupiter'... Found: Jupiter Barycenter (5).\n",
      "Searching NASA Horizons for 'Saturn'... Found: Saturn Barycenter (6).\n",
      "Searching NASA Horizons for 'Uranus'... Found: Uranus Barycenter (7).\n",
      "Searching NASA Horizons for 'Neptune'... Found: Neptune Barycenter (8).\n",
      "Searching NASA Horizons for 'Pluto'... Found: Pluto Barycenter (9).\n"
     ]
    }
   ],
   "source": [
    "sim = rebound.Simulation()\n",
    "date = \"2000-01-01 00:00\"\n",
    "for p in [\"Sun\",\"Mercury\",\"Venus\",\"Earth\",\"Mars\",\"Jupiter\",\"Saturn\",\"Uranus\",\"Neptune\",\"Pluto\"]:\n",
    "    sim.add(p,date=date)\n",
    "    \n",
    "sim.convert_particle_units('AU', 'yr2pi', 'Msun')\n",
    "\n",
    "days2yr2pi = 1./(365.*2.0*np.pi)\n",
    "sim.dt = 8.*days2yr2pi\n",
    "sim.integrator = \"whfast\"\n",
    "sim.move_to_com()\n",
    "\n",
    "#from reboundx import constants\n",
    "\n",
    "#rebx = reboundx.Extras(sim)\n",
    "#gr = rebx.add(\"gr_potential\")\n",
    "#gr.params[\"c\"] = constants.C"
   ]
  },
  {
   "cell_type": "code",
   "execution_count": 67,
   "metadata": {},
   "outputs": [],
   "source": [
    "energy_nogr = np.empty(0)\n",
    "for t in times:\n",
    "    sim.integrate(t*2.*np.pi)\n",
    "    E = sim.calculate_energy()\n",
    "    energy_nogr = np.append(energy_nogr,E)"
   ]
  },
  {
   "cell_type": "code",
   "execution_count": 71,
   "metadata": {},
   "outputs": [
    {
     "name": "stdout",
     "output_type": "stream",
     "text": [
      "Searching NASA Horizons for 'Sun'... Found: Sun (10).\n",
      "Searching NASA Horizons for 'Mercury'... Found: Mercury Barycenter (199).\n",
      "Searching NASA Horizons for 'Venus'... Found: Venus Barycenter (299).\n",
      "Searching NASA Horizons for 'Earth'... Found: Earth-Moon Barycenter (3).\n",
      "Searching NASA Horizons for 'Mars'... Found: Mars Barycenter (4).\n",
      "Searching NASA Horizons for 'Jupiter'... Found: Jupiter Barycenter (5).\n",
      "Searching NASA Horizons for 'Saturn'... Found: Saturn Barycenter (6).\n",
      "Searching NASA Horizons for 'Uranus'... Found: Uranus Barycenter (7).\n",
      "Searching NASA Horizons for 'Neptune'... Found: Neptune Barycenter (8).\n",
      "Searching NASA Horizons for 'Pluto'... Found: Pluto Barycenter (9).\n"
     ]
    }
   ],
   "source": [
    "sim = rebound.Simulation()\n",
    "date = \"2000-01-01 00:00\"\n",
    "for p in [\"Sun\",\"Mercury\",\"Venus\",\"Earth\",\"Mars\",\"Jupiter\",\"Saturn\",\"Uranus\",\"Neptune\",\"Pluto\"]:\n",
    "    sim.add(p,date=date)\n",
    "    \n",
    "#sim.convert_particle_units('AU', 'yr2pi', 'Msun')\n",
    "\n",
    "#days2yr2pi = 1./(365.*2.0*np.pi)\n",
    "sim.dt = 8.#*days2yr2pi\n",
    "sim.integrator = \"whfast\"\n",
    "sim.move_to_com()\n",
    "\n",
    "from reboundx import constants\n",
    "\n",
    "rebx = reboundx.Extras(sim)\n",
    "gr = rebx.add(\"gr_potential\")\n",
    "gr.params[\"c\"] = constants.C"
   ]
  },
  {
   "cell_type": "code",
   "execution_count": 72,
   "metadata": {},
   "outputs": [],
   "source": [
    "energy_badgr = np.empty(0)\n",
    "for t in times:\n",
    "    sim.integrate(t*365.)\n",
    "    sim2 = sim\n",
    "    sim2.convert_particle_units('AU', 'yr2pi', 'Msun')\n",
    "    E = rebx.gr_potential_hamiltonian(sim2, gr)\n",
    "    energy_badgr = np.append(energy_badgr,E)"
   ]
  },
  {
   "cell_type": "code",
   "execution_count": 73,
   "metadata": {},
   "outputs": [
    {
     "name": "stdout",
     "output_type": "stream",
     "text": [
      "[ 1.          0.99999948  0.99999166  0.9999894   0.99999031  0.99999372\n",
      "  0.99998883  0.99998453  0.99999102  0.99999741  0.99999101  1.00000372\n",
      "  1.00000534  1.00000295  1.000004    0.99999635  0.99998921  0.99998533\n",
      "  0.9999831   0.99998306  0.99998636  0.99999271  0.99998383  0.99997816\n",
      "  0.99999374  0.99998461  0.999977    1.00000078  0.9999937   0.99998248\n",
      "  0.99999066  0.99996852  0.99997225  0.99996814  0.99996764  0.99997426\n",
      "  0.99996625  0.99996963  0.99997968  0.99998326  0.99995952  0.99995358\n",
      "  0.99995071  0.99995132  0.99995326  0.9999546   0.99996062  0.99993553\n",
      "  0.99992772  0.9999292   0.99991788  0.99991631  0.99991327  0.9999689\n",
      "  0.99990025  0.99998555  0.99999277  0.99981206  0.99985479  0.99990384\n",
      "  0.99982344  0.99982651  0.99984797  0.99985355  0.99987398  0.99985183\n",
      "  0.99981975  0.99969443  0.99968978  0.99968218  0.99968652  0.99971291\n",
      "  0.99971424  0.99969636  0.99972351  0.99972317  0.99971137  0.99971866\n",
      "  0.99969403  0.9997201   0.99976895  0.99970395  0.99977308  0.99976292\n",
      "  0.99962481  0.99967421  0.99966948  0.99959569  0.99948448  0.99957931\n",
      "  0.99958722  0.99937822  0.99929479  0.99936118  0.99929947  0.99929414\n",
      "  0.99934577  0.99934525  0.999483    0.9994853 ]\n",
      "[ 1.00000001  1.00000001  1.00000001  1.00000001  1.00000001  1.00000001\n",
      "  1.00000001  1.00000001  1.00000001  1.00000001  1.00000001  1.00000001\n",
      "  1.00000001  1.00000001  1.00000001  1.00000001  1.00000001  1.00000001\n",
      "  1.00000001  1.00000001  1.00000001  1.00000001  1.00000001  1.00000001\n",
      "  1.00000001  1.00000001  1.00000001  1.00000001  1.00000001  1.00000001\n",
      "  1.00000001  1.00000001  1.00000001  1.00000001  1.00000001  1.00000001\n",
      "  1.00000001  1.00000001  1.00000001  1.00000001  1.00000001  1.00000001\n",
      "  1.00000001  1.00000001  1.00000001  1.00000001  1.00000001  1.00000001\n",
      "  1.00000001  1.00000001  1.00000001  1.00000001  1.00000001  1.00000001\n",
      "  1.00000001  1.00000001  1.00000001  1.00000001  1.00000001  1.00000001\n",
      "  1.00000001  1.00000001  1.00000001  1.00000001  1.00000001  1.00000001\n",
      "  1.00000001  1.00000001  1.00000001  1.00000001  1.00000001  1.00000001\n",
      "  1.00000001  1.00000001  1.00000001  1.00000001  1.00000001  1.00000001\n",
      "  1.00000001  1.00000001  1.00000001  1.00000001  1.00000001  1.00000001\n",
      "  1.00000001  1.00000001  1.00000001  1.00000001  1.00000001  1.00000001\n",
      "  1.00000001  1.00000001  1.00000001  1.00000001  1.00000001  1.00000001\n",
      "  1.00000001  1.00000001  1.00000001  1.00000001]\n"
     ]
    }
   ],
   "source": [
    "print energy_gr/energy_badgr\n",
    "print energy_gr/energy_nogr"
   ]
  }
 ],
 "metadata": {
  "kernelspec": {
   "display_name": "Python 2",
   "language": "python",
   "name": "python2"
  },
  "language_info": {
   "codemirror_mode": {
    "name": "ipython",
    "version": 2
   },
   "file_extension": ".py",
   "mimetype": "text/x-python",
   "name": "python",
   "nbconvert_exporter": "python",
   "pygments_lexer": "ipython2",
   "version": "2.7.9"
  }
 },
 "nbformat": 4,
 "nbformat_minor": 1
}
