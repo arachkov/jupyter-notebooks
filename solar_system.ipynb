{
 "cells": [
  {
   "cell_type": "code",
   "execution_count": 1,
   "metadata": {
    "collapsed": true
   },
   "outputs": [],
   "source": [
    "import rebound\n",
    "import reboundx\n",
    "from reboundx import constants\n",
    "import numpy as np"
   ]
  },
  {
   "cell_type": "code",
   "execution_count": 2,
   "metadata": {},
   "outputs": [
    {
     "name": "stdout",
     "output_type": "stream",
     "text": [
      "Searching NASA Horizons for 'Sun'... Found: Sun (10).\n",
      "Searching NASA Horizons for 'Mercury'... Found: Mercury Barycenter (199).\n",
      "Searching NASA Horizons for 'Venus'... Found: Venus Barycenter (299).\n",
      "Searching NASA Horizons for 'Earth'... Found: Earth-Moon Barycenter (3).\n",
      "Searching NASA Horizons for 'Mars'... Found: Mars Barycenter (4).\n",
      "Searching NASA Horizons for 'Jupiter'... Found: Jupiter Barycenter (5).\n",
      "Searching NASA Horizons for 'Saturn'... Found: Saturn Barycenter (6).\n",
      "Searching NASA Horizons for 'Uranus'... Found: Uranus Barycenter (7).\n",
      "Searching NASA Horizons for 'Neptune'... Found: Neptune Barycenter (8).\n",
      "Searching NASA Horizons for 'Pluto'... Found: Pluto Barycenter (9).\n"
     ]
    }
   ],
   "source": [
    "sim = rebound.Simulation()\n",
    "sim.add([\"Sun\",\"Mercury\",\"Venus\",\"Earth\",\"Mars\",\"Jupiter\",\"Saturn\",\"Uranus\",\"Neptune\",\"Pluto\"])"
   ]
  },
  {
   "cell_type": "code",
   "execution_count": 3,
   "metadata": {},
   "outputs": [],
   "source": [
    "sim.convert_particle_units('AU', 'day', 'kg')\n",
    "sim.save(\"test.bin\")"
   ]
  },
  {
   "cell_type": "code",
   "execution_count": 4,
   "metadata": {},
   "outputs": [],
   "source": [
    "sim = rebound.Simulation.from_file(\"test.bin\")\n",
    "\n",
    "old_sim = rebound.Simulation()\n",
    "old_sim.G = 1.4880826e-34\n",
    "o = sim.calculate_orbits()\n",
    "\n",
    "old_sim.add(sim.particles[0])\n",
    "for i in range(len(o)):\n",
    "    if i==0:\n",
    "        fac = 1.-1e-5\n",
    "    else:\n",
    "        fac = 1.\n",
    "    old_sim.add(m=sim.particles[i+1].m,a=o[i].a,e=fac*o[i].e,inc=o[i].inc,omega=o[i].omega,Omega=o[i].Omega,f=o[i].f)\n",
    "\n",
    "old_sim.integrator = \"whfast\"\n",
    "old_sim.dt = 8.\n",
    "\n",
    "old_sim.move_to_com()\n",
    "\n",
    "rebx = reboundx.Extras(old_sim)\n",
    "gr = rebx.add(\"gr_potential\")\n",
    "gr.params[\"c\"] = constants.C"
   ]
  },
  {
   "cell_type": "code",
   "execution_count": 5,
   "metadata": {},
   "outputs": [],
   "source": [
    "times = np.arange(1,1.e5*365.,1000)"
   ]
  },
  {
   "cell_type": "code",
   "execution_count": 6,
   "metadata": {},
   "outputs": [],
   "source": [
    "old_x = np.empty(0)\n",
    "for t in times:\n",
    "    old_sim.integrate(t)\n",
    "    old_x = np.append(old_x,old_sim.particles[1].x)"
   ]
  },
  {
   "cell_type": "code",
   "execution_count": 7,
   "metadata": {
    "collapsed": true
   },
   "outputs": [],
   "source": [
    "sim = rebound.Simulation.from_file(\"test.bin\")\n",
    "sim.move_to_com()\n",
    "\n",
    "new_sim = rebound.Simulation()\n",
    "new_sim.G = 1.4880826e-34\n",
    "o = sim.calculate_orbits()\n",
    "\n",
    "new_sim.add(sim.particles[0])\n",
    "for i in range(len(o)):\n",
    "    if i==0:\n",
    "        fac = 1.-1e-5\n",
    "    else:\n",
    "        fac = 1.\n",
    "    new_sim.add(m=sim.particles[i+1].m,a=o[i].a,e=fac*o[i].e,inc=o[i].inc,omega=o[i].omega,Omega=o[i].Omega,f=o[i].f)\n",
    "\n",
    "new_sim.integrator = \"whfast\"\n",
    "new_sim.dt = 8.\n",
    "\n",
    "new_sim.move_to_com()\n",
    "\n",
    "rebx = reboundx.Extras(new_sim)\n",
    "gr = rebx.add(\"gr_potential\")\n",
    "gr.params[\"c\"] = constants.C"
   ]
  },
  {
   "cell_type": "code",
   "execution_count": 8,
   "metadata": {
    "collapsed": true
   },
   "outputs": [],
   "source": [
    "new_x = np.empty(0)\n",
    "for t in times:\n",
    "    new_sim.integrate(t)\n",
    "    new_x = np.append(new_x,new_sim.particles[1].x)"
   ]
  },
  {
   "cell_type": "code",
   "execution_count": 17,
   "metadata": {},
   "outputs": [
    {
     "data": {
      "image/png": "[encoded data removed]",
      "text/plain": [
       "<matplotlib.figure.Figure at 0x7f6598d51ed0>"
      ]
     },
     "metadata": {},
     "output_type": "display_data"
    }
   ],
   "source": [
    "import matplotlib\n",
    "%matplotlib inline\n",
    "from matplotlib import pyplot as plt\n",
    "plt.xlabel(\"time in 1e3 yrs\")\n",
    "plt.ylabel(\"difference in Mercury's x\")\n",
    "plt.plot(times/(365.e3),abs(new_x-old_x),'.')\n",
    "plt.show()"
   ]
  },
  {
   "cell_type": "code",
   "execution_count": 18,
   "metadata": {},
   "outputs": [
    {
     "name": "stdout",
     "output_type": "stream",
     "text": [
      "[  5.55111512e-17  -3.43058915e-14   8.85957974e-14 ...,   3.95704374e-07\n",
      "  -4.07785768e-07   3.17370453e-08]\n"
     ]
    }
   ],
   "source": [
    "print new_x-old_x"
   ]
  },
  {
   "cell_type": "code",
   "execution_count": null,
   "metadata": {
    "collapsed": true
   },
   "outputs": [],
   "source": []
  }
 ],
 "metadata": {
  "kernelspec": {
   "display_name": "Python 2",
   "language": "python",
   "name": "python2"
  },
  "language_info": {
   "codemirror_mode": {
    "name": "ipython",
    "version": 2
   },
   "file_extension": ".py",
   "mimetype": "text/x-python",
   "name": "python",
   "nbconvert_exporter": "python",
   "pygments_lexer": "ipython2",
   "version": "2.7.9"
  }
 },
 "nbformat": 4,
 "nbformat_minor": 2
}
